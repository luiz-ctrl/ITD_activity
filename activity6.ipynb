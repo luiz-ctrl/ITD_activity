{
 "cells": [
  {
   "cell_type": "code",
   "execution_count": 1,
   "id": "b773e64b-1fae-44ba-9823-6563ac5f4bb4",
   "metadata": {},
   "outputs": [],
   "source": [
    "import pandas as pd\n",
    "import matplotlib.pyplot as plt\n",
    "import seaborn as sns \n",
    "import numpy as np "
   ]
  },
  {
   "cell_type": "code",
   "execution_count": 2,
   "id": "accfefc2-e765-4da1-9818-29a3f7251d01",
   "metadata": {},
   "outputs": [
    {
     "name": "stdout",
     "output_type": "stream",
     "text": [
      "Defaulting to user installation because normal site-packages is not writeableNote: you may need to restart the kernel to use updated packages.\n",
      "\n",
      "Requirement already satisfied: folium in c:\\users\\patiag\\appdata\\local\\packages\\pythonsoftwarefoundation.python.3.12_qbz5n2kfra8p0\\localcache\\local-packages\\python312\\site-packages (0.19.5)\n",
      "Requirement already satisfied: branca>=0.6.0 in c:\\users\\patiag\\appdata\\local\\packages\\pythonsoftwarefoundation.python.3.12_qbz5n2kfra8p0\\localcache\\local-packages\\python312\\site-packages (from folium) (0.8.1)\n",
      "Requirement already satisfied: jinja2>=2.9 in c:\\users\\patiag\\appdata\\local\\packages\\pythonsoftwarefoundation.python.3.12_qbz5n2kfra8p0\\localcache\\local-packages\\python312\\site-packages (from folium) (3.1.5)\n",
      "Requirement already satisfied: numpy in c:\\users\\patiag\\appdata\\local\\packages\\pythonsoftwarefoundation.python.3.12_qbz5n2kfra8p0\\localcache\\local-packages\\python312\\site-packages (from folium) (2.2.3)\n",
      "Requirement already satisfied: requests in c:\\users\\patiag\\appdata\\local\\packages\\pythonsoftwarefoundation.python.3.12_qbz5n2kfra8p0\\localcache\\local-packages\\python312\\site-packages (from folium) (2.32.3)\n",
      "Requirement already satisfied: xyzservices in c:\\users\\patiag\\appdata\\local\\packages\\pythonsoftwarefoundation.python.3.12_qbz5n2kfra8p0\\localcache\\local-packages\\python312\\site-packages (from folium) (2025.1.0)\n",
      "Requirement already satisfied: MarkupSafe>=2.0 in c:\\users\\patiag\\appdata\\local\\packages\\pythonsoftwarefoundation.python.3.12_qbz5n2kfra8p0\\localcache\\local-packages\\python312\\site-packages (from jinja2>=2.9->folium) (3.0.2)\n",
      "Requirement already satisfied: charset-normalizer<4,>=2 in c:\\users\\patiag\\appdata\\local\\packages\\pythonsoftwarefoundation.python.3.12_qbz5n2kfra8p0\\localcache\\local-packages\\python312\\site-packages (from requests->folium) (3.4.1)\n",
      "Requirement already satisfied: idna<4,>=2.5 in c:\\users\\patiag\\appdata\\local\\packages\\pythonsoftwarefoundation.python.3.12_qbz5n2kfra8p0\\localcache\\local-packages\\python312\\site-packages (from requests->folium) (3.10)\n",
      "Requirement already satisfied: urllib3<3,>=1.21.1 in c:\\users\\patiag\\appdata\\local\\packages\\pythonsoftwarefoundation.python.3.12_qbz5n2kfra8p0\\localcache\\local-packages\\python312\\site-packages (from requests->folium) (2.3.0)\n",
      "Requirement already satisfied: certifi>=2017.4.17 in c:\\users\\patiag\\appdata\\local\\packages\\pythonsoftwarefoundation.python.3.12_qbz5n2kfra8p0\\localcache\\local-packages\\python312\\site-packages (from requests->folium) (2025.1.31)\n"
     ]
    }
   ],
   "source": [
    "pip install folium"
   ]
  },
  {
   "cell_type": "code",
   "execution_count": 3,
   "id": "92e198d4-bbff-4424-ab33-6dce3552b2cf",
   "metadata": {},
   "outputs": [],
   "source": [
    "import folium\n",
    "from folium.plugins import HeatMap"
   ]
  },
  {
   "cell_type": "code",
   "execution_count": 4,
   "id": "7170bb12-fd25-4729-a19b-45420d77e026",
   "metadata": {},
   "outputs": [
    {
     "name": "stderr",
     "output_type": "stream",
     "text": [
      "C:\\Users\\patiag\\AppData\\Local\\Temp\\ipykernel_1640\\2222195703.py:2: DtypeWarning: Columns (4,6,31,33,61,62,63,76,79,90,92,94,96,114,115,121) have mixed types. Specify dtype option on import or set low_memory=False.\n",
      "  df = pd.read_csv('Global_terrorist.csv', encoding='ISO-8859-1')\n"
     ]
    }
   ],
   "source": [
    "import pandas as pd\n",
    "df = pd.read_csv('Global_terrorist.csv', encoding='ISO-8859-1')"
   ]
  },
  {
   "cell_type": "code",
   "execution_count": 5,
   "id": "2556ca78-f947-476f-8b11-7107754365dc",
   "metadata": {},
   "outputs": [
    {
     "data": {
      "text/html": [
       "<div>\n",
       "<style scoped>\n",
       "    .dataframe tbody tr th:only-of-type {\n",
       "        vertical-align: middle;\n",
       "    }\n",
       "\n",
       "    .dataframe tbody tr th {\n",
       "        vertical-align: top;\n",
       "    }\n",
       "\n",
       "    .dataframe thead th {\n",
       "        text-align: right;\n",
       "    }\n",
       "</style>\n",
       "<table border=\"1\" class=\"dataframe\">\n",
       "  <thead>\n",
       "    <tr style=\"text-align: right;\">\n",
       "      <th></th>\n",
       "      <th>eventid</th>\n",
       "      <th>iyear</th>\n",
       "      <th>imonth</th>\n",
       "      <th>iday</th>\n",
       "      <th>approxdate</th>\n",
       "      <th>extended</th>\n",
       "      <th>resolution</th>\n",
       "      <th>country</th>\n",
       "      <th>country_txt</th>\n",
       "      <th>region</th>\n",
       "      <th>...</th>\n",
       "      <th>addnotes</th>\n",
       "      <th>scite1</th>\n",
       "      <th>scite2</th>\n",
       "      <th>scite3</th>\n",
       "      <th>dbsource</th>\n",
       "      <th>INT_LOG</th>\n",
       "      <th>INT_IDEO</th>\n",
       "      <th>INT_MISC</th>\n",
       "      <th>INT_ANY</th>\n",
       "      <th>related</th>\n",
       "    </tr>\n",
       "  </thead>\n",
       "  <tbody>\n",
       "    <tr>\n",
       "      <th>0</th>\n",
       "      <td>197000000001</td>\n",
       "      <td>1970</td>\n",
       "      <td>7</td>\n",
       "      <td>2</td>\n",
       "      <td>NaN</td>\n",
       "      <td>0</td>\n",
       "      <td>NaN</td>\n",
       "      <td>58</td>\n",
       "      <td>Dominican Republic</td>\n",
       "      <td>2</td>\n",
       "      <td>...</td>\n",
       "      <td>NaN</td>\n",
       "      <td>NaN</td>\n",
       "      <td>NaN</td>\n",
       "      <td>NaN</td>\n",
       "      <td>PGIS</td>\n",
       "      <td>0</td>\n",
       "      <td>0</td>\n",
       "      <td>0</td>\n",
       "      <td>0</td>\n",
       "      <td>NaN</td>\n",
       "    </tr>\n",
       "    <tr>\n",
       "      <th>1</th>\n",
       "      <td>197000000002</td>\n",
       "      <td>1970</td>\n",
       "      <td>0</td>\n",
       "      <td>0</td>\n",
       "      <td>NaN</td>\n",
       "      <td>0</td>\n",
       "      <td>NaN</td>\n",
       "      <td>130</td>\n",
       "      <td>Mexico</td>\n",
       "      <td>1</td>\n",
       "      <td>...</td>\n",
       "      <td>NaN</td>\n",
       "      <td>NaN</td>\n",
       "      <td>NaN</td>\n",
       "      <td>NaN</td>\n",
       "      <td>PGIS</td>\n",
       "      <td>0</td>\n",
       "      <td>1</td>\n",
       "      <td>1</td>\n",
       "      <td>1</td>\n",
       "      <td>NaN</td>\n",
       "    </tr>\n",
       "    <tr>\n",
       "      <th>2</th>\n",
       "      <td>197001000001</td>\n",
       "      <td>1970</td>\n",
       "      <td>1</td>\n",
       "      <td>0</td>\n",
       "      <td>NaN</td>\n",
       "      <td>0</td>\n",
       "      <td>NaN</td>\n",
       "      <td>160</td>\n",
       "      <td>Philippines</td>\n",
       "      <td>5</td>\n",
       "      <td>...</td>\n",
       "      <td>NaN</td>\n",
       "      <td>NaN</td>\n",
       "      <td>NaN</td>\n",
       "      <td>NaN</td>\n",
       "      <td>PGIS</td>\n",
       "      <td>-9</td>\n",
       "      <td>-9</td>\n",
       "      <td>1</td>\n",
       "      <td>1</td>\n",
       "      <td>NaN</td>\n",
       "    </tr>\n",
       "    <tr>\n",
       "      <th>3</th>\n",
       "      <td>197001000002</td>\n",
       "      <td>1970</td>\n",
       "      <td>1</td>\n",
       "      <td>0</td>\n",
       "      <td>NaN</td>\n",
       "      <td>0</td>\n",
       "      <td>NaN</td>\n",
       "      <td>78</td>\n",
       "      <td>Greece</td>\n",
       "      <td>8</td>\n",
       "      <td>...</td>\n",
       "      <td>NaN</td>\n",
       "      <td>NaN</td>\n",
       "      <td>NaN</td>\n",
       "      <td>NaN</td>\n",
       "      <td>PGIS</td>\n",
       "      <td>-9</td>\n",
       "      <td>-9</td>\n",
       "      <td>1</td>\n",
       "      <td>1</td>\n",
       "      <td>NaN</td>\n",
       "    </tr>\n",
       "    <tr>\n",
       "      <th>4</th>\n",
       "      <td>197001000003</td>\n",
       "      <td>1970</td>\n",
       "      <td>1</td>\n",
       "      <td>0</td>\n",
       "      <td>NaN</td>\n",
       "      <td>0</td>\n",
       "      <td>NaN</td>\n",
       "      <td>101</td>\n",
       "      <td>Japan</td>\n",
       "      <td>4</td>\n",
       "      <td>...</td>\n",
       "      <td>NaN</td>\n",
       "      <td>NaN</td>\n",
       "      <td>NaN</td>\n",
       "      <td>NaN</td>\n",
       "      <td>PGIS</td>\n",
       "      <td>-9</td>\n",
       "      <td>-9</td>\n",
       "      <td>1</td>\n",
       "      <td>1</td>\n",
       "      <td>NaN</td>\n",
       "    </tr>\n",
       "    <tr>\n",
       "      <th>...</th>\n",
       "      <td>...</td>\n",
       "      <td>...</td>\n",
       "      <td>...</td>\n",
       "      <td>...</td>\n",
       "      <td>...</td>\n",
       "      <td>...</td>\n",
       "      <td>...</td>\n",
       "      <td>...</td>\n",
       "      <td>...</td>\n",
       "      <td>...</td>\n",
       "      <td>...</td>\n",
       "      <td>...</td>\n",
       "      <td>...</td>\n",
       "      <td>...</td>\n",
       "      <td>...</td>\n",
       "      <td>...</td>\n",
       "      <td>...</td>\n",
       "      <td>...</td>\n",
       "      <td>...</td>\n",
       "      <td>...</td>\n",
       "      <td>...</td>\n",
       "    </tr>\n",
       "    <tr>\n",
       "      <th>181686</th>\n",
       "      <td>201712310022</td>\n",
       "      <td>2017</td>\n",
       "      <td>12</td>\n",
       "      <td>31</td>\n",
       "      <td>NaN</td>\n",
       "      <td>0</td>\n",
       "      <td>NaN</td>\n",
       "      <td>182</td>\n",
       "      <td>Somalia</td>\n",
       "      <td>11</td>\n",
       "      <td>...</td>\n",
       "      <td>NaN</td>\n",
       "      <td>\"Somalia: Al-Shabaab Militants Attack Army Che...</td>\n",
       "      <td>\"Highlights: Somalia Daily Media Highlights 2 ...</td>\n",
       "      <td>\"Highlights: Somalia Daily Media Highlights 1 ...</td>\n",
       "      <td>START Primary Collection</td>\n",
       "      <td>0</td>\n",
       "      <td>0</td>\n",
       "      <td>0</td>\n",
       "      <td>0</td>\n",
       "      <td>NaN</td>\n",
       "    </tr>\n",
       "    <tr>\n",
       "      <th>181687</th>\n",
       "      <td>201712310029</td>\n",
       "      <td>2017</td>\n",
       "      <td>12</td>\n",
       "      <td>31</td>\n",
       "      <td>NaN</td>\n",
       "      <td>0</td>\n",
       "      <td>NaN</td>\n",
       "      <td>200</td>\n",
       "      <td>Syria</td>\n",
       "      <td>10</td>\n",
       "      <td>...</td>\n",
       "      <td>NaN</td>\n",
       "      <td>\"Putin's 'victory' in Syria has turned into a ...</td>\n",
       "      <td>\"Two Russian soldiers killed at Hmeymim base i...</td>\n",
       "      <td>\"Two Russian servicemen killed in Syria mortar...</td>\n",
       "      <td>START Primary Collection</td>\n",
       "      <td>-9</td>\n",
       "      <td>-9</td>\n",
       "      <td>1</td>\n",
       "      <td>1</td>\n",
       "      <td>NaN</td>\n",
       "    </tr>\n",
       "    <tr>\n",
       "      <th>181688</th>\n",
       "      <td>201712310030</td>\n",
       "      <td>2017</td>\n",
       "      <td>12</td>\n",
       "      <td>31</td>\n",
       "      <td>NaN</td>\n",
       "      <td>0</td>\n",
       "      <td>NaN</td>\n",
       "      <td>160</td>\n",
       "      <td>Philippines</td>\n",
       "      <td>5</td>\n",
       "      <td>...</td>\n",
       "      <td>NaN</td>\n",
       "      <td>\"Maguindanao clashes trap tribe members,\" Phil...</td>\n",
       "      <td>NaN</td>\n",
       "      <td>NaN</td>\n",
       "      <td>START Primary Collection</td>\n",
       "      <td>0</td>\n",
       "      <td>0</td>\n",
       "      <td>0</td>\n",
       "      <td>0</td>\n",
       "      <td>NaN</td>\n",
       "    </tr>\n",
       "    <tr>\n",
       "      <th>181689</th>\n",
       "      <td>201712310031</td>\n",
       "      <td>2017</td>\n",
       "      <td>12</td>\n",
       "      <td>31</td>\n",
       "      <td>NaN</td>\n",
       "      <td>0</td>\n",
       "      <td>NaN</td>\n",
       "      <td>92</td>\n",
       "      <td>India</td>\n",
       "      <td>6</td>\n",
       "      <td>...</td>\n",
       "      <td>NaN</td>\n",
       "      <td>\"Trader escapes grenade attack in Imphal,\" Bus...</td>\n",
       "      <td>NaN</td>\n",
       "      <td>NaN</td>\n",
       "      <td>START Primary Collection</td>\n",
       "      <td>-9</td>\n",
       "      <td>-9</td>\n",
       "      <td>0</td>\n",
       "      <td>-9</td>\n",
       "      <td>NaN</td>\n",
       "    </tr>\n",
       "    <tr>\n",
       "      <th>181690</th>\n",
       "      <td>201712310032</td>\n",
       "      <td>2017</td>\n",
       "      <td>12</td>\n",
       "      <td>31</td>\n",
       "      <td>NaN</td>\n",
       "      <td>0</td>\n",
       "      <td>NaN</td>\n",
       "      <td>160</td>\n",
       "      <td>Philippines</td>\n",
       "      <td>5</td>\n",
       "      <td>...</td>\n",
       "      <td>NaN</td>\n",
       "      <td>\"Security tightened in Cotabato following IED ...</td>\n",
       "      <td>\"Security tightened in Cotabato City,\" Manila ...</td>\n",
       "      <td>NaN</td>\n",
       "      <td>START Primary Collection</td>\n",
       "      <td>-9</td>\n",
       "      <td>-9</td>\n",
       "      <td>0</td>\n",
       "      <td>-9</td>\n",
       "      <td>NaN</td>\n",
       "    </tr>\n",
       "  </tbody>\n",
       "</table>\n",
       "<p>181691 rows × 135 columns</p>\n",
       "</div>"
      ],
      "text/plain": [
       "             eventid  iyear  imonth  iday approxdate  extended resolution  \\\n",
       "0       197000000001   1970       7     2        NaN         0        NaN   \n",
       "1       197000000002   1970       0     0        NaN         0        NaN   \n",
       "2       197001000001   1970       1     0        NaN         0        NaN   \n",
       "3       197001000002   1970       1     0        NaN         0        NaN   \n",
       "4       197001000003   1970       1     0        NaN         0        NaN   \n",
       "...              ...    ...     ...   ...        ...       ...        ...   \n",
       "181686  201712310022   2017      12    31        NaN         0        NaN   \n",
       "181687  201712310029   2017      12    31        NaN         0        NaN   \n",
       "181688  201712310030   2017      12    31        NaN         0        NaN   \n",
       "181689  201712310031   2017      12    31        NaN         0        NaN   \n",
       "181690  201712310032   2017      12    31        NaN         0        NaN   \n",
       "\n",
       "        country         country_txt  region  ... addnotes  \\\n",
       "0            58  Dominican Republic       2  ...      NaN   \n",
       "1           130              Mexico       1  ...      NaN   \n",
       "2           160         Philippines       5  ...      NaN   \n",
       "3            78              Greece       8  ...      NaN   \n",
       "4           101               Japan       4  ...      NaN   \n",
       "...         ...                 ...     ...  ...      ...   \n",
       "181686      182             Somalia      11  ...      NaN   \n",
       "181687      200               Syria      10  ...      NaN   \n",
       "181688      160         Philippines       5  ...      NaN   \n",
       "181689       92               India       6  ...      NaN   \n",
       "181690      160         Philippines       5  ...      NaN   \n",
       "\n",
       "                                                   scite1  \\\n",
       "0                                                     NaN   \n",
       "1                                                     NaN   \n",
       "2                                                     NaN   \n",
       "3                                                     NaN   \n",
       "4                                                     NaN   \n",
       "...                                                   ...   \n",
       "181686  \"Somalia: Al-Shabaab Militants Attack Army Che...   \n",
       "181687  \"Putin's 'victory' in Syria has turned into a ...   \n",
       "181688  \"Maguindanao clashes trap tribe members,\" Phil...   \n",
       "181689  \"Trader escapes grenade attack in Imphal,\" Bus...   \n",
       "181690  \"Security tightened in Cotabato following IED ...   \n",
       "\n",
       "                                                   scite2  \\\n",
       "0                                                     NaN   \n",
       "1                                                     NaN   \n",
       "2                                                     NaN   \n",
       "3                                                     NaN   \n",
       "4                                                     NaN   \n",
       "...                                                   ...   \n",
       "181686  \"Highlights: Somalia Daily Media Highlights 2 ...   \n",
       "181687  \"Two Russian soldiers killed at Hmeymim base i...   \n",
       "181688                                                NaN   \n",
       "181689                                                NaN   \n",
       "181690  \"Security tightened in Cotabato City,\" Manila ...   \n",
       "\n",
       "                                                   scite3  \\\n",
       "0                                                     NaN   \n",
       "1                                                     NaN   \n",
       "2                                                     NaN   \n",
       "3                                                     NaN   \n",
       "4                                                     NaN   \n",
       "...                                                   ...   \n",
       "181686  \"Highlights: Somalia Daily Media Highlights 1 ...   \n",
       "181687  \"Two Russian servicemen killed in Syria mortar...   \n",
       "181688                                                NaN   \n",
       "181689                                                NaN   \n",
       "181690                                                NaN   \n",
       "\n",
       "                        dbsource  INT_LOG  INT_IDEO INT_MISC INT_ANY  related  \n",
       "0                           PGIS        0         0        0       0      NaN  \n",
       "1                           PGIS        0         1        1       1      NaN  \n",
       "2                           PGIS       -9        -9        1       1      NaN  \n",
       "3                           PGIS       -9        -9        1       1      NaN  \n",
       "4                           PGIS       -9        -9        1       1      NaN  \n",
       "...                          ...      ...       ...      ...     ...      ...  \n",
       "181686  START Primary Collection        0         0        0       0      NaN  \n",
       "181687  START Primary Collection       -9        -9        1       1      NaN  \n",
       "181688  START Primary Collection        0         0        0       0      NaN  \n",
       "181689  START Primary Collection       -9        -9        0      -9      NaN  \n",
       "181690  START Primary Collection       -9        -9        0      -9      NaN  \n",
       "\n",
       "[181691 rows x 135 columns]"
      ]
     },
     "execution_count": 5,
     "metadata": {},
     "output_type": "execute_result"
    }
   ],
   "source": [
    "df"
   ]
  },
  {
   "cell_type": "code",
   "execution_count": 6,
   "id": "6b4d3412-d52f-46ca-b106-1c0010e1b2a4",
   "metadata": {},
   "outputs": [
    {
     "data": {
      "text/plain": [
       "0         False\n",
       "1         False\n",
       "2         False\n",
       "3         False\n",
       "4         False\n",
       "          ...  \n",
       "181686    False\n",
       "181687     True\n",
       "181688    False\n",
       "181689    False\n",
       "181690    False\n",
       "Name: country_txt, Length: 181691, dtype: bool"
      ]
     },
     "execution_count": 6,
     "metadata": {},
     "output_type": "execute_result"
    }
   ],
   "source": [
    "df['country_txt']=='Syria'"
   ]
  },
  {
   "cell_type": "code",
   "execution_count": 7,
   "id": "fc34ec8e-1a40-4f67-8cda-1d399de0f6a3",
   "metadata": {},
   "outputs": [],
   "source": [
    "filter1 = df[df['country_txt']=='Syria']"
   ]
  },
  {
   "cell_type": "code",
   "execution_count": 8,
   "id": "3c3d169f-acec-48f7-b49a-7837b7c8dc6d",
   "metadata": {},
   "outputs": [
    {
     "data": {
      "text/plain": [
       "2512      False\n",
       "2540      False\n",
       "2590      False\n",
       "2595      False\n",
       "2751      False\n",
       "          ...  \n",
       "181434    False\n",
       "181455    False\n",
       "181456    False\n",
       "181667    False\n",
       "181687    False\n",
       "Name: iyear, Length: 2201, dtype: bool"
      ]
     },
     "execution_count": 8,
     "metadata": {},
     "output_type": "execute_result"
    }
   ],
   "source": [
    "filter1['iyear'] == 2014"
   ]
  },
  {
   "cell_type": "code",
   "execution_count": 9,
   "id": "f113e077-bfb1-4020-9bb4-709762c3dba7",
   "metadata": {},
   "outputs": [],
   "source": [
    "filter2 = filter1[filter1['iyear'] == 2014]"
   ]
  },
  {
   "cell_type": "code",
   "execution_count": 10,
   "id": "920cfe66-6d4a-486a-bb7a-fb22203df404",
   "metadata": {},
   "outputs": [
    {
     "data": {
      "text/plain": [
       "imonth\n",
       "4     49\n",
       "10    43\n",
       "5     40\n",
       "8     31\n",
       "6     31\n",
       "1     24\n",
       "9     23\n",
       "7     21\n",
       "12    21\n",
       "2     20\n",
       "11    17\n",
       "3     11\n",
       "Name: count, dtype: int64"
      ]
     },
     "execution_count": 10,
     "metadata": {},
     "output_type": "execute_result"
    }
   ],
   "source": [
    "filter2['imonth'].value_counts()"
   ]
  },
  {
   "cell_type": "code",
   "execution_count": 11,
   "id": "f0b49292-6c49-461c-bce1-262129b7bb04",
   "metadata": {},
   "outputs": [
    {
     "data": {
      "text/plain": [
       "125405    True\n",
       "125425    True\n",
       "125426    True\n",
       "125679    True\n",
       "125712    True\n",
       "          ... \n",
       "142057    True\n",
       "142058    True\n",
       "142091    True\n",
       "142106    True\n",
       "142150    True\n",
       "Name: imonth, Length: 331, dtype: bool"
      ]
     },
     "execution_count": 11,
     "metadata": {},
     "output_type": "execute_result"
    }
   ],
   "source": [
    "filter2['imonth'] <= 12"
   ]
  },
  {
   "cell_type": "code",
   "execution_count": 12,
   "id": "faf9b7a2-ff87-409f-a0da-6f6ce0115406",
   "metadata": {},
   "outputs": [],
   "source": [
    "filter3 = filter2[filter2['imonth'] <= 12]"
   ]
  },
  {
   "cell_type": "code",
   "execution_count": 13,
   "id": "68daad43-9ffa-477f-9e6c-30e906b245c3",
   "metadata": {},
   "outputs": [
    {
     "data": {
      "text/plain": [
       "targtype1_txt\n",
       "Private Citizens & Property       130\n",
       "Military                           90\n",
       "Terrorists/Non-State Militia       25\n",
       "Business                           15\n",
       "Police                             14\n",
       "Religious Figures/Institutions     12\n",
       "Journalists & Media                 9\n",
       "Educational Institution             8\n",
       "Unknown                             7\n",
       "Government (Diplomatic)             5\n",
       "Government (General)                5\n",
       "Transportation                      5\n",
       "NGO                                 4\n",
       "Utilities                           2\n",
       "Name: count, dtype: int64"
      ]
     },
     "execution_count": 13,
     "metadata": {},
     "output_type": "execute_result"
    }
   ],
   "source": [
    "filter3['targtype1_txt'].value_counts()"
   ]
  },
  {
   "cell_type": "code",
   "execution_count": 14,
   "id": "38a3112c-5a03-42b9-b00c-44c9c9be5953",
   "metadata": {},
   "outputs": [],
   "source": [
    "filter4 = filter3[filter3['attacktype1_txt'] == 'Bombing/Explosion']"
   ]
  },
  {
   "cell_type": "code",
   "execution_count": 15,
   "id": "9ea4e192-867b-4343-89ea-a8166361cca3",
   "metadata": {},
   "outputs": [
    {
     "data": {
      "text/plain": [
       "city\n",
       "Damascus     38\n",
       "Aleppo       35\n",
       "Kobani       30\n",
       "Homs         26\n",
       "Unknown      11\n",
       "             ..\n",
       "Jafrah        1\n",
       "Al-Mallah     1\n",
       "Handarat      1\n",
       "Qatmah        1\n",
       "Furqlus       1\n",
       "Name: count, Length: 64, dtype: int64"
      ]
     },
     "execution_count": 15,
     "metadata": {},
     "output_type": "execute_result"
    }
   ],
   "source": [
    "filter4['city'].value_counts()"
   ]
  },
  {
   "cell_type": "code",
   "execution_count": 16,
   "id": "64f1f227-efe7-4bca-8765-26e2f71a0538",
   "metadata": {},
   "outputs": [],
   "source": [
    "filter5 = filter4.groupby(['latitude','longitude']).size().reset_index(name='incident_count')"
   ]
  },
  {
   "cell_type": "code",
   "execution_count": 17,
   "id": "71defbfb-9357-473e-add0-946757d7e515",
   "metadata": {},
   "outputs": [
    {
     "data": {
      "text/html": [
       "<div>\n",
       "<style scoped>\n",
       "    .dataframe tbody tr th:only-of-type {\n",
       "        vertical-align: middle;\n",
       "    }\n",
       "\n",
       "    .dataframe tbody tr th {\n",
       "        vertical-align: top;\n",
       "    }\n",
       "\n",
       "    .dataframe thead th {\n",
       "        text-align: right;\n",
       "    }\n",
       "</style>\n",
       "<table border=\"1\" class=\"dataframe\">\n",
       "  <thead>\n",
       "    <tr style=\"text-align: right;\">\n",
       "      <th></th>\n",
       "      <th>latitude</th>\n",
       "      <th>longitude</th>\n",
       "      <th>incident_count</th>\n",
       "    </tr>\n",
       "  </thead>\n",
       "  <tbody>\n",
       "    <tr>\n",
       "      <th>0</th>\n",
       "      <td>32.622334</td>\n",
       "      <td>36.103756</td>\n",
       "      <td>1</td>\n",
       "    </tr>\n",
       "    <tr>\n",
       "      <th>1</th>\n",
       "      <td>32.674366</td>\n",
       "      <td>36.056892</td>\n",
       "      <td>1</td>\n",
       "    </tr>\n",
       "    <tr>\n",
       "      <th>2</th>\n",
       "      <td>32.707739</td>\n",
       "      <td>36.564823</td>\n",
       "      <td>1</td>\n",
       "    </tr>\n",
       "    <tr>\n",
       "      <th>3</th>\n",
       "      <td>32.709763</td>\n",
       "      <td>36.567642</td>\n",
       "      <td>1</td>\n",
       "    </tr>\n",
       "    <tr>\n",
       "      <th>4</th>\n",
       "      <td>32.711067</td>\n",
       "      <td>36.026836</td>\n",
       "      <td>1</td>\n",
       "    </tr>\n",
       "    <tr>\n",
       "      <th>...</th>\n",
       "      <td>...</td>\n",
       "      <td>...</td>\n",
       "      <td>...</td>\n",
       "    </tr>\n",
       "    <tr>\n",
       "      <th>69</th>\n",
       "      <td>36.684336</td>\n",
       "      <td>38.802893</td>\n",
       "      <td>1</td>\n",
       "    </tr>\n",
       "    <tr>\n",
       "      <th>70</th>\n",
       "      <td>36.695437</td>\n",
       "      <td>38.415062</td>\n",
       "      <td>1</td>\n",
       "    </tr>\n",
       "    <tr>\n",
       "      <th>71</th>\n",
       "      <td>36.818630</td>\n",
       "      <td>38.011127</td>\n",
       "      <td>2</td>\n",
       "    </tr>\n",
       "    <tr>\n",
       "      <th>72</th>\n",
       "      <td>36.886497</td>\n",
       "      <td>38.350204</td>\n",
       "      <td>29</td>\n",
       "    </tr>\n",
       "    <tr>\n",
       "      <th>73</th>\n",
       "      <td>37.053360</td>\n",
       "      <td>41.227345</td>\n",
       "      <td>1</td>\n",
       "    </tr>\n",
       "  </tbody>\n",
       "</table>\n",
       "<p>74 rows × 3 columns</p>\n",
       "</div>"
      ],
      "text/plain": [
       "     latitude  longitude  incident_count\n",
       "0   32.622334  36.103756               1\n",
       "1   32.674366  36.056892               1\n",
       "2   32.707739  36.564823               1\n",
       "3   32.709763  36.567642               1\n",
       "4   32.711067  36.026836               1\n",
       "..        ...        ...             ...\n",
       "69  36.684336  38.802893               1\n",
       "70  36.695437  38.415062               1\n",
       "71  36.818630  38.011127               2\n",
       "72  36.886497  38.350204              29\n",
       "73  37.053360  41.227345               1\n",
       "\n",
       "[74 rows x 3 columns]"
      ]
     },
     "execution_count": 17,
     "metadata": {},
     "output_type": "execute_result"
    }
   ],
   "source": [
    "filter5"
   ]
  },
  {
   "cell_type": "code",
   "execution_count": 18,
   "id": "e33181e9-80a5-4b2e-9380-e9ea750efc94",
   "metadata": {},
   "outputs": [],
   "source": [
    "filter5['normalize_data'] = filter5['incident_count'] - filter5['incident_count'].min() / filter5['incident_count'].max() - filter5['incident_count'].min()\n",
    "heat_data = filter5[['latitude','longitude','normalize_data']].values.tolist()"
   ]
  },
  {
   "cell_type": "code",
   "execution_count": 19,
   "id": "dd5849e0-8289-452a-8a2f-c834950ab4d4",
   "metadata": {},
   "outputs": [],
   "source": [
    "my_map = folium.Map(location =[30,40],zoom_start =4)"
   ]
  },
  {
   "cell_type": "code",
   "execution_count": 20,
   "id": "f17421ea-91d3-428d-8d16-8ddfe47155c4",
   "metadata": {},
   "outputs": [
    {
     "data": {
      "text/plain": [
       "<folium.plugins.heat_map.HeatMap at 0x155fadc6180>"
      ]
     },
     "execution_count": 20,
     "metadata": {},
     "output_type": "execute_result"
    }
   ],
   "source": [
    "HeatMap(heat_data).add_to(my_map)"
   ]
  },
  {
   "cell_type": "code",
   "execution_count": 21,
   "id": "7c6d9ec5-1a14-47f0-a667-c21851f819f2",
   "metadata": {},
   "outputs": [
    {
     "name": "stdout",
     "output_type": "stream",
     "text": [
      "Data Successfully Saved to syria.html\n"
     ]
    }
   ],
   "source": [
    "my_map.save('syria.html')\n",
    "print(\"Data Successfully Saved to syria.html\")"
   ]
  },
  {
   "cell_type": "code",
   "execution_count": 22,
   "id": "d1a4cb6d-ddff-4a79-8314-a61ad6184fdc",
   "metadata": {},
   "outputs": [
    {
     "data": {
      "text/html": [
       "<div style=\"width:100%;\"><div style=\"position:relative;width:100%;height:0;padding-bottom:60%;\"><span style=\"color:#565656\">Make this Notebook Trusted to load map: File -> Trust Notebook</span><iframe srcdoc=\"&lt;!DOCTYPE html&gt;\n",
       "&lt;html&gt;\n",
       "&lt;head&gt;\n",
       "    \n",
       "    &lt;meta http-equiv=&quot;content-type&quot; content=&quot;text/html; charset=UTF-8&quot; /&gt;\n",
       "    \n",
       "        &lt;script&gt;\n",
       "            L_NO_TOUCH = false;\n",
       "            L_DISABLE_3D = false;\n",
       "        &lt;/script&gt;\n",
       "    \n",
       "    &lt;style&gt;html, body {width: 100%;height: 100%;margin: 0;padding: 0;}&lt;/style&gt;\n",
       "    &lt;style&gt;#map {position:absolute;top:0;bottom:0;right:0;left:0;}&lt;/style&gt;\n",
       "    &lt;script src=&quot;https://cdn.jsdelivr.net/npm/leaflet@1.9.3/dist/leaflet.js&quot;&gt;&lt;/script&gt;\n",
       "    &lt;script src=&quot;https://code.jquery.com/jquery-3.7.1.min.js&quot;&gt;&lt;/script&gt;\n",
       "    &lt;script src=&quot;https://cdn.jsdelivr.net/npm/bootstrap@5.2.2/dist/js/bootstrap.bundle.min.js&quot;&gt;&lt;/script&gt;\n",
       "    &lt;script src=&quot;https://cdnjs.cloudflare.com/ajax/libs/Leaflet.awesome-markers/2.0.2/leaflet.awesome-markers.js&quot;&gt;&lt;/script&gt;\n",
       "    &lt;link rel=&quot;stylesheet&quot; href=&quot;https://cdn.jsdelivr.net/npm/leaflet@1.9.3/dist/leaflet.css&quot;/&gt;\n",
       "    &lt;link rel=&quot;stylesheet&quot; href=&quot;https://cdn.jsdelivr.net/npm/bootstrap@5.2.2/dist/css/bootstrap.min.css&quot;/&gt;\n",
       "    &lt;link rel=&quot;stylesheet&quot; href=&quot;https://netdna.bootstrapcdn.com/bootstrap/3.0.0/css/bootstrap-glyphicons.css&quot;/&gt;\n",
       "    &lt;link rel=&quot;stylesheet&quot; href=&quot;https://cdn.jsdelivr.net/npm/@fortawesome/fontawesome-free@6.2.0/css/all.min.css&quot;/&gt;\n",
       "    &lt;link rel=&quot;stylesheet&quot; href=&quot;https://cdnjs.cloudflare.com/ajax/libs/Leaflet.awesome-markers/2.0.2/leaflet.awesome-markers.css&quot;/&gt;\n",
       "    &lt;link rel=&quot;stylesheet&quot; href=&quot;https://cdn.jsdelivr.net/gh/python-visualization/folium/folium/templates/leaflet.awesome.rotate.min.css&quot;/&gt;\n",
       "    \n",
       "            &lt;meta name=&quot;viewport&quot; content=&quot;width=device-width,\n",
       "                initial-scale=1.0, maximum-scale=1.0, user-scalable=no&quot; /&gt;\n",
       "            &lt;style&gt;\n",
       "                #map_83428b0fa7b418f399518f15781e8c7f {\n",
       "                    position: relative;\n",
       "                    width: 100.0%;\n",
       "                    height: 100.0%;\n",
       "                    left: 0.0%;\n",
       "                    top: 0.0%;\n",
       "                }\n",
       "                .leaflet-container { font-size: 1rem; }\n",
       "            &lt;/style&gt;\n",
       "        \n",
       "    &lt;script src=&quot;https://cdn.jsdelivr.net/gh/python-visualization/folium@main/folium/templates/leaflet_heat.min.js&quot;&gt;&lt;/script&gt;\n",
       "&lt;/head&gt;\n",
       "&lt;body&gt;\n",
       "    \n",
       "    \n",
       "            &lt;div class=&quot;folium-map&quot; id=&quot;map_83428b0fa7b418f399518f15781e8c7f&quot; &gt;&lt;/div&gt;\n",
       "        \n",
       "&lt;/body&gt;\n",
       "&lt;script&gt;\n",
       "    \n",
       "    \n",
       "            var map_83428b0fa7b418f399518f15781e8c7f = L.map(\n",
       "                &quot;map_83428b0fa7b418f399518f15781e8c7f&quot;,\n",
       "                {\n",
       "                    center: [30.0, 40.0],\n",
       "                    crs: L.CRS.EPSG3857,\n",
       "                    ...{\n",
       "  &quot;zoom&quot;: 4,\n",
       "  &quot;zoomControl&quot;: true,\n",
       "  &quot;preferCanvas&quot;: false,\n",
       "}\n",
       "\n",
       "                }\n",
       "            );\n",
       "\n",
       "            \n",
       "\n",
       "        \n",
       "    \n",
       "            var tile_layer_35e15b2325180ccf97b3d7c94abc572c = L.tileLayer(\n",
       "                &quot;https://tile.openstreetmap.org/{z}/{x}/{y}.png&quot;,\n",
       "                {\n",
       "  &quot;minZoom&quot;: 0,\n",
       "  &quot;maxZoom&quot;: 19,\n",
       "  &quot;maxNativeZoom&quot;: 19,\n",
       "  &quot;noWrap&quot;: false,\n",
       "  &quot;attribution&quot;: &quot;\\u0026copy; \\u003ca href=\\&quot;https://www.openstreetmap.org/copyright\\&quot;\\u003eOpenStreetMap\\u003c/a\\u003e contributors&quot;,\n",
       "  &quot;subdomains&quot;: &quot;abc&quot;,\n",
       "  &quot;detectRetina&quot;: false,\n",
       "  &quot;tms&quot;: false,\n",
       "  &quot;opacity&quot;: 1,\n",
       "}\n",
       "\n",
       "            );\n",
       "        \n",
       "    \n",
       "            tile_layer_35e15b2325180ccf97b3d7c94abc572c.addTo(map_83428b0fa7b418f399518f15781e8c7f);\n",
       "        \n",
       "    \n",
       "            var heat_map_3dffa9753f765be9f2f1e979d5854116 = L.heatLayer(\n",
       "                [[32.622334, 36.103756, -0.02777777777777779], [32.674366, 36.056892, -0.02777777777777779], [32.707739, 36.564823, -0.02777777777777779], [32.709763, 36.567642, -0.02777777777777779], [32.711067, 36.026836, -0.02777777777777779], [32.876421, 36.506168, -0.02777777777777779], [32.962402, 36.076488, -0.02777777777777779], [33.052915, 35.895363, -0.02777777777777779], [33.122407, 35.903711, -0.02777777777777779], [33.282396, 35.798466, -0.02777777777777779], [33.488998, 36.346882, 1.9722222222222223], [33.515244, 36.292084, 34.97222222222222], [33.571575, 36.40044, 0.9722222222222223], [34.256706, 38.317014, -0.02777777777777779], [34.602982, 37.086327, -0.02777777777777779], [34.634483, 36.2318, -0.02777777777777779], [34.717705, 36.722824, 24.97222222222222], [34.722992, 37.046791, -0.02777777777777779], [34.951523, 36.581963, -0.02777777777777779], [34.974637, 36.50439, -0.02777777777777779], [35.012791, 37.051506, -0.02777777777777779], [35.015778, 40.455212, 0.9722222222222223], [35.046111, 40.4875, -0.02777777777777779], [35.068056, 36.888889, -0.02777777777777779], [35.129181, 36.760738, 1.9722222222222223], [35.188786, 37.211583, -0.02777777777777779], [35.266373, 36.710999, -0.02777777777777779], [35.283094, 40.170864, 0.9722222222222223], [35.286536, 40.182669, -0.02777777777777779], [35.296982, 40.202309, -0.02777777777777779], [35.361572, 35.927155, -0.02777777777777779], [35.405506, 37.430546, 0.9722222222222223], [35.413296, 36.33012, -0.02777777777777779], [35.647797, 36.675259, 1.9722222222222223], [35.781292, 37.499214, 0.9722222222222223], [35.785833, 36.038056, -0.02777777777777779], [35.814324, 36.614226, 2.9722222222222223], [35.825429, 35.952128, -0.02777777777777779], [35.92522, 35.988251, 0.9722222222222223], [35.925894, 36.6519, -0.02777777777777779], [35.928802, 36.631451, 3.9722222222222223], [35.933333, 36.633333, 0.9722222222222223], [35.951523, 39.009563, 0.9722222222222223], [35.956841, 36.714043, -0.02777777777777779], [35.958808, 38.999399, -0.02777777777777779], [35.988462, 39.029995, -0.02777777777777779], [36.01313, 36.673443, -0.02777777777777779], [36.093884, 38.013538, -0.02777777777777779], [36.201721, 37.14352, 33.97222222222222], [36.226239, 37.46814, -0.02777777777777779], [36.230274, 36.692928, 0.9722222222222223], [36.231704, 36.696236, -0.02777777777777779], [36.266701, 37.203342, -0.02777777777777779], [36.29137, 37.15876, -0.02777777777777779], [36.310444, 36.689156, 0.9722222222222223], [36.362663, 37.012653, -0.02777777777777779], [36.366199, 37.512276, -0.02777777777777779], [36.377281, 36.993607, -0.02777777777777779], [36.503593, 40.740627, 4.972222222222222], [36.539002, 37.21323, -0.02777777777777779], [36.591221, 36.961853, -0.02777777777777779], [36.612793, 37.449032, -0.02777777777777779], [36.617964, 38.782846, -0.02777777777777779], [36.618584, 37.076237, 0.9722222222222223], [36.625523, 38.754038, -0.02777777777777779], [36.641883, 38.692552, -0.02777777777777779], [36.646735, 38.78416, -0.02777777777777779], [36.658628, 38.758781, -0.02777777777777779], [36.680492, 38.748776, -0.02777777777777779], [36.684336, 38.802893, -0.02777777777777779], [36.695437, 38.415062, -0.02777777777777779], [36.81863, 38.011127, 0.9722222222222223], [36.886497, 38.350204, 27.97222222222222], [37.05336, 41.227345, -0.02777777777777779]],\n",
       "                {\n",
       "  &quot;minOpacity&quot;: 0.5,\n",
       "  &quot;maxZoom&quot;: 18,\n",
       "  &quot;radius&quot;: 25,\n",
       "  &quot;blur&quot;: 15,\n",
       "}\n",
       "            );\n",
       "        \n",
       "    \n",
       "            heat_map_3dffa9753f765be9f2f1e979d5854116.addTo(map_83428b0fa7b418f399518f15781e8c7f);\n",
       "        \n",
       "    \n",
       "            tile_layer_35e15b2325180ccf97b3d7c94abc572c.addTo(map_83428b0fa7b418f399518f15781e8c7f);\n",
       "        \n",
       "    \n",
       "            heat_map_3dffa9753f765be9f2f1e979d5854116.addTo(map_83428b0fa7b418f399518f15781e8c7f);\n",
       "        \n",
       "&lt;/script&gt;\n",
       "&lt;/html&gt;\" style=\"position:absolute;width:100%;height:100%;left:0;top:0;border:none !important;\" allowfullscreen webkitallowfullscreen mozallowfullscreen></iframe></div></div>"
      ],
      "text/plain": [
       "<folium.folium.Map at 0x15603b653d0>"
      ]
     },
     "execution_count": 22,
     "metadata": {},
     "output_type": "execute_result"
    }
   ],
   "source": [
    "my_map"
   ]
  },
  {
   "cell_type": "markdown",
   "id": "3980a947-4c86-4bc4-914e-89ae0c55df68",
   "metadata": {},
   "source": [
    "<h1>Insight no.1</h1>\n",
    "<h2><b>High Concentration in Southern Syria</b> here is a significant intensity of attacks in southern Syria, particularly around the areas near the borders of Jordan, Israel, and Lebanon.</h2>"
   ]
  },
  {
   "cell_type": "markdown",
   "id": "b4b370c7-cb24-4a49-b83a-f21219e86c55",
   "metadata": {},
   "source": [
    "<h1>Insight no.2</h1>\n",
    "<h2><b> Central and Western Hotspots</b> A major cluster of attacks appears in western and central Syria, including areas around Homs, Hama, and potentially Latakia.</h2>"
   ]
  },
  {
   "cell_type": "markdown",
   "id": "2f37e95d-7983-4e4b-aa81-01288aae0e33",
   "metadata": {},
   "source": [
    "<h1>Insight no.3</h1>\n",
    "<h2><b>Northern Syria Activity</b> There's moderate heat signature activity in the northern parts of Syria, particularly near Aleppo and the Turkish border.</h2>"
   ]
  },
  {
   "cell_type": "markdown",
   "id": "ceed1500-3cfa-4b08-8081-aebbfac8b716",
   "metadata": {},
   "source": [
    "<h1>Insight no.4</h1>\n",
    "<h2><b>Spillover Effects Near Neighboring Countries</b> The heatmap shows activity near the Syrian-Iraqi border and eastern Syria, including Deir ez-Zor and Al-Hasakah.</h2>"
   ]
  },
  {
   "cell_type": "markdown",
   "id": "c94623bb-aa4a-413a-bf66-871b0f42f606",
   "metadata": {},
   "source": [
    "<h1>Insight no.5</h1>\n",
    "<h2><b><?b</h2>"
   ]
  }
 ],
 "metadata": {
  "kernelspec": {
   "display_name": "Python 3 (ipykernel)",
   "language": "python",
   "name": "python3"
  },
  "language_info": {
   "codemirror_mode": {
    "name": "ipython",
    "version": 3
   },
   "file_extension": ".py",
   "mimetype": "text/x-python",
   "name": "python",
   "nbconvert_exporter": "python",
   "pygments_lexer": "ipython3",
   "version": "3.12.10"
  }
 },
 "nbformat": 4,
 "nbformat_minor": 5
}
